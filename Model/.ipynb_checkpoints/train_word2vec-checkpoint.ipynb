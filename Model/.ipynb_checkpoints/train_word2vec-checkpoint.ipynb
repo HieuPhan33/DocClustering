{
 "cells": [
  {
   "cell_type": "code",
   "execution_count": 2,
   "metadata": {},
   "outputs": [],
   "source": [
    "# imports needed and logging\n",
    "import zipfile\n",
    "import gensim \n",
    "import logging\n",
    "import io\n",
    "# read in some helpful libraries\n",
    "import nltk                       # the natural langauage toolkit, open-source NLP\n",
    "import pandas as pd               # pandas dataframe\n",
    "import re                         # regular expression\n",
    "from nltk.corpus import stopwords  \n",
    "from gensim import parsing        # Help in preprocessing the data, very efficiently\n",
    "import gensim\n",
    "import numpy as np\n",
    "logging.basicConfig(format='%(asctime)s : %(levelname)s : %(message)s', level=logging.INFO)\n",
    " "
   ]
  },
  {
   "cell_type": "code",
   "execution_count": 16,
   "metadata": {},
   "outputs": [
    {
     "data": {
      "text/plain": [
       "['article']"
      ]
     },
     "execution_count": 16,
     "metadata": {},
     "output_type": "execute_result"
    }
   ],
   "source": []
  },
  {
   "cell_type": "code",
   "execution_count": 71,
   "metadata": {},
   "outputs": [],
   "source": []
  },
  {
   "cell_type": "code",
   "execution_count": 61,
   "metadata": {},
   "outputs": [
    {
     "data": {
      "text/plain": [
       "['hello', 'david']"
      ]
     },
     "execution_count": 61,
     "metadata": {},
     "output_type": "execute_result"
    }
   ],
   "source": [
    "documents = []\n",
    "\n",
    "f = open('corpus/shuffled.cs-en',encoding=\"utf-8\")\n",
    "\n"
   ]
  },
  {
   "cell_type": "code",
   "execution_count": 3,
   "metadata": {},
   "outputs": [],
   "source": [
    "def read_corpus(fname, tokens_only=False):\n",
    "    with zipfile.ZipFile(fname, \"r\") as z:\n",
    "        for name in z.namelist():\n",
    "            with z.open(name) as f:\n",
    "                for i, line in enumerate(f):\n",
    "                    if tokens_only:\n",
    "                        yield gensim.utils.simple_preprocess(line)\n",
    "                    else:\n",
    "                        # For training data, add tags\n",
    "                        yield gensim.models.doc2vec.TaggedDocument(gensim.utils.simple_preprocess(line), [i])"
   ]
  },
  {
   "cell_type": "code",
   "execution_count": 4,
   "metadata": {},
   "outputs": [],
   "source": [
    "documents = list(read_corpus('corpus/corpus.zip',tokens_only=True))"
   ]
  },
  {
   "cell_type": "code",
   "execution_count": 19,
   "metadata": {},
   "outputs": [
    {
     "name": "stderr",
     "output_type": "stream",
     "text": [
      "2018-11-23 16:12:32,534 : WARNING : consider setting layer size to a multiple of 4 for greater performance\n"
     ]
    }
   ],
   "source": []
  },
  {
   "cell_type": "code",
   "execution_count": 74,
   "metadata": {},
   "outputs": [
    {
     "name": "stderr",
     "output_type": "stream",
     "text": [
      "2018-11-22 23:18:24,827 : WARNING : consider setting layer size to a multiple of 4 for greater performance\n",
      "2018-11-22 23:18:24,828 : INFO : collecting all words and their counts\n",
      "2018-11-22 23:18:24,828 : INFO : PROGRESS: at sentence #0, processed 0 words, keeping 0 word types\n",
      "2018-11-22 23:18:24,864 : INFO : PROGRESS: at sentence #10000, processed 238759 words, keeping 13406 word types\n",
      "2018-11-22 23:18:24,906 : INFO : PROGRESS: at sentence #20000, processed 553468 words, keeping 20078 word types\n",
      "2018-11-22 23:18:24,951 : INFO : PROGRESS: at sentence #30000, processed 867630 words, keeping 24053 word types\n",
      "2018-11-22 23:18:24,992 : INFO : PROGRESS: at sentence #40000, processed 1156559 words, keeping 27522 word types\n",
      "2018-11-22 23:18:25,025 : INFO : PROGRESS: at sentence #50000, processed 1397451 words, keeping 30541 word types\n",
      "2018-11-22 23:18:25,072 : INFO : PROGRESS: at sentence #60000, processed 1653288 words, keeping 34324 word types\n",
      "2018-11-22 23:18:25,106 : INFO : PROGRESS: at sentence #70000, processed 1912375 words, keeping 37312 word types\n",
      "2018-11-22 23:18:25,142 : INFO : PROGRESS: at sentence #80000, processed 2156848 words, keeping 39985 word types\n",
      "2018-11-22 23:18:25,180 : INFO : PROGRESS: at sentence #90000, processed 2451395 words, keeping 43005 word types\n",
      "2018-11-22 23:18:25,233 : INFO : collected 46953 word types from a corpus of 2847520 raw words and 93272 sentences\n",
      "2018-11-22 23:18:25,234 : INFO : Loading a fresh vocabulary\n",
      "2018-11-22 23:18:25,273 : INFO : min_count=2 retains 25074 unique words (53% of original 46953, drops 21879)\n",
      "2018-11-22 23:18:25,274 : INFO : min_count=2 leaves 2825641 word corpus (99% of original 2847520, drops 21879)\n",
      "2018-11-22 23:18:25,328 : INFO : deleting the raw counts dictionary of 46953 items\n",
      "2018-11-22 23:18:25,329 : INFO : sample=0.001 downsamples 56 most-common words\n",
      "2018-11-22 23:18:25,330 : INFO : downsampling leaves estimated 2180446 word corpus (77.2% of prior 2825641)\n",
      "2018-11-22 23:18:25,390 : INFO : estimated required memory for 25074 words and 150 dimensions: 42625800 bytes\n",
      "2018-11-22 23:18:25,391 : INFO : resetting layer weights\n",
      "2018-11-22 23:18:25,650 : INFO : training model with 10 workers on 25074 vocabulary and 150 features, using sg=0 hs=0 sample=0.001 negative=5 window=10\n",
      "2018-11-22 23:18:26,648 : INFO : worker thread finished; awaiting finish of 9 more threads\n",
      "2018-11-22 23:18:26,650 : INFO : worker thread finished; awaiting finish of 8 more threads\n",
      "2018-11-22 23:18:26,660 : INFO : worker thread finished; awaiting finish of 7 more threads\n",
      "2018-11-22 23:18:26,662 : INFO : EPOCH 1 - PROGRESS: at 99.97% examples, 1995292 words/s, in_qsize 5, out_qsize 3\n",
      "2018-11-22 23:18:26,663 : INFO : worker thread finished; awaiting finish of 6 more threads\n",
      "2018-11-22 23:18:26,663 : INFO : worker thread finished; awaiting finish of 5 more threads\n",
      "2018-11-22 23:18:26,665 : INFO : worker thread finished; awaiting finish of 4 more threads\n",
      "2018-11-22 23:18:26,677 : INFO : worker thread finished; awaiting finish of 3 more threads\n",
      "2018-11-22 23:18:26,678 : INFO : worker thread finished; awaiting finish of 2 more threads\n",
      "2018-11-22 23:18:26,680 : INFO : worker thread finished; awaiting finish of 1 more threads\n",
      "2018-11-22 23:18:26,687 : INFO : worker thread finished; awaiting finish of 0 more threads\n",
      "2018-11-22 23:18:26,687 : INFO : EPOCH - 1 : training on 2847520 raw words (2044823 effective words) took 1.0s, 1994183 effective words/s\n",
      "2018-11-22 23:18:27,685 : INFO : worker thread finished; awaiting finish of 9 more threads\n",
      "2018-11-22 23:18:27,689 : INFO : worker thread finished; awaiting finish of 8 more threads\n",
      "2018-11-22 23:18:27,693 : INFO : worker thread finished; awaiting finish of 7 more threads\n",
      "2018-11-22 23:18:27,696 : INFO : worker thread finished; awaiting finish of 6 more threads\n",
      "2018-11-22 23:18:27,697 : INFO : worker thread finished; awaiting finish of 5 more threads\n",
      "2018-11-22 23:18:27,703 : INFO : EPOCH 2 - PROGRESS: at 99.99% examples, 1998747 words/s, in_qsize 4, out_qsize 1\n",
      "2018-11-22 23:18:27,703 : INFO : worker thread finished; awaiting finish of 4 more threads\n",
      "2018-11-22 23:18:27,709 : INFO : worker thread finished; awaiting finish of 3 more threads\n",
      "2018-11-22 23:18:27,719 : INFO : worker thread finished; awaiting finish of 2 more threads\n",
      "2018-11-22 23:18:27,719 : INFO : worker thread finished; awaiting finish of 1 more threads\n",
      "2018-11-22 23:18:27,720 : INFO : worker thread finished; awaiting finish of 0 more threads\n",
      "2018-11-22 23:18:27,720 : INFO : EPOCH - 2 : training on 2847520 raw words (2044640 effective words) took 1.0s, 2000254 effective words/s\n",
      "2018-11-22 23:18:28,740 : INFO : EPOCH 3 - PROGRESS: at 97.93% examples, 1908646 words/s, in_qsize 18, out_qsize 1\n",
      "2018-11-22 23:18:28,766 : INFO : worker thread finished; awaiting finish of 9 more threads\n",
      "2018-11-22 23:18:28,775 : INFO : worker thread finished; awaiting finish of 8 more threads\n",
      "2018-11-22 23:18:28,776 : INFO : worker thread finished; awaiting finish of 7 more threads\n",
      "2018-11-22 23:18:28,780 : INFO : worker thread finished; awaiting finish of 6 more threads\n",
      "2018-11-22 23:18:28,784 : INFO : worker thread finished; awaiting finish of 5 more threads\n",
      "2018-11-22 23:18:28,786 : INFO : worker thread finished; awaiting finish of 4 more threads\n",
      "2018-11-22 23:18:28,794 : INFO : worker thread finished; awaiting finish of 3 more threads\n",
      "2018-11-22 23:18:28,798 : INFO : worker thread finished; awaiting finish of 2 more threads\n",
      "2018-11-22 23:18:28,802 : INFO : worker thread finished; awaiting finish of 1 more threads\n",
      "2018-11-22 23:18:28,803 : INFO : worker thread finished; awaiting finish of 0 more threads\n",
      "2018-11-22 23:18:28,803 : INFO : EPOCH - 3 : training on 2847520 raw words (2045357 effective words) took 1.1s, 1921843 effective words/s\n",
      "2018-11-22 23:18:29,818 : INFO : EPOCH 4 - PROGRESS: at 99.43% examples, 1931135 words/s, in_qsize 17, out_qsize 0\n",
      "2018-11-22 23:18:29,837 : INFO : worker thread finished; awaiting finish of 9 more threads\n",
      "2018-11-22 23:18:29,844 : INFO : worker thread finished; awaiting finish of 8 more threads\n",
      "2018-11-22 23:18:29,847 : INFO : worker thread finished; awaiting finish of 7 more threads\n",
      "2018-11-22 23:18:29,852 : INFO : worker thread finished; awaiting finish of 6 more threads\n",
      "2018-11-22 23:18:29,853 : INFO : worker thread finished; awaiting finish of 5 more threads\n",
      "2018-11-22 23:18:29,854 : INFO : worker thread finished; awaiting finish of 4 more threads\n",
      "2018-11-22 23:18:29,859 : INFO : worker thread finished; awaiting finish of 3 more threads\n",
      "2018-11-22 23:18:29,869 : INFO : worker thread finished; awaiting finish of 2 more threads\n",
      "2018-11-22 23:18:29,870 : INFO : worker thread finished; awaiting finish of 1 more threads\n",
      "2018-11-22 23:18:29,871 : INFO : worker thread finished; awaiting finish of 0 more threads\n",
      "2018-11-22 23:18:29,872 : INFO : EPOCH - 4 : training on 2847520 raw words (2044479 effective words) took 1.1s, 1932777 effective words/s\n",
      "2018-11-22 23:18:30,884 : INFO : EPOCH 5 - PROGRESS: at 99.96% examples, 1963503 words/s, in_qsize 9, out_qsize 2\n",
      "2018-11-22 23:18:30,889 : INFO : worker thread finished; awaiting finish of 9 more threads\n",
      "2018-11-22 23:18:30,896 : INFO : worker thread finished; awaiting finish of 8 more threads\n",
      "2018-11-22 23:18:30,897 : INFO : worker thread finished; awaiting finish of 7 more threads\n",
      "2018-11-22 23:18:30,898 : INFO : worker thread finished; awaiting finish of 6 more threads\n",
      "2018-11-22 23:18:30,898 : INFO : worker thread finished; awaiting finish of 5 more threads\n",
      "2018-11-22 23:18:30,901 : INFO : worker thread finished; awaiting finish of 4 more threads\n",
      "2018-11-22 23:18:30,913 : INFO : worker thread finished; awaiting finish of 3 more threads\n",
      "2018-11-22 23:18:30,916 : INFO : worker thread finished; awaiting finish of 2 more threads\n",
      "2018-11-22 23:18:30,917 : INFO : worker thread finished; awaiting finish of 1 more threads\n",
      "2018-11-22 23:18:30,923 : INFO : worker thread finished; awaiting finish of 0 more threads\n",
      "2018-11-22 23:18:30,923 : INFO : EPOCH - 5 : training on 2847520 raw words (2045179 effective words) took 1.0s, 1966100 effective words/s\n",
      "2018-11-22 23:18:30,923 : INFO : training on a 14237600 raw words (10224478 effective words) took 5.3s, 1939241 effective words/s\n",
      "2018-11-22 23:18:30,931 : WARNING : Effective 'alpha' higher than previous training cycles\n",
      "2018-11-22 23:18:30,932 : INFO : training model with 10 workers on 25074 vocabulary and 150 features, using sg=0 hs=0 sample=0.001 negative=5 window=10\n",
      "2018-11-22 23:18:31,930 : INFO : worker thread finished; awaiting finish of 9 more threads\n",
      "2018-11-22 23:18:31,936 : INFO : worker thread finished; awaiting finish of 8 more threads\n",
      "2018-11-22 23:18:31,937 : INFO : worker thread finished; awaiting finish of 7 more threads\n",
      "2018-11-22 23:18:31,938 : INFO : worker thread finished; awaiting finish of 6 more threads\n",
      "2018-11-22 23:18:31,943 : INFO : worker thread finished; awaiting finish of 5 more threads\n",
      "2018-11-22 23:18:31,944 : INFO : EPOCH 1 - PROGRESS: at 99.99% examples, 2006931 words/s, in_qsize 4, out_qsize 1\n",
      "2018-11-22 23:18:31,944 : INFO : worker thread finished; awaiting finish of 4 more threads\n",
      "2018-11-22 23:18:31,949 : INFO : worker thread finished; awaiting finish of 3 more threads\n",
      "2018-11-22 23:18:31,955 : INFO : worker thread finished; awaiting finish of 2 more threads\n",
      "2018-11-22 23:18:31,960 : INFO : worker thread finished; awaiting finish of 1 more threads\n",
      "2018-11-22 23:18:31,963 : INFO : worker thread finished; awaiting finish of 0 more threads\n",
      "2018-11-22 23:18:31,964 : INFO : EPOCH - 1 : training on 2847520 raw words (2044531 effective words) took 1.0s, 2003522 effective words/s\n",
      "2018-11-22 23:18:32,980 : INFO : EPOCH 2 - PROGRESS: at 99.88% examples, 1934773 words/s, in_qsize 14, out_qsize 0\n",
      "2018-11-22 23:18:32,995 : INFO : worker thread finished; awaiting finish of 9 more threads\n",
      "2018-11-22 23:18:32,999 : INFO : worker thread finished; awaiting finish of 8 more threads\n",
      "2018-11-22 23:18:33,002 : INFO : worker thread finished; awaiting finish of 7 more threads\n",
      "2018-11-22 23:18:33,002 : INFO : worker thread finished; awaiting finish of 6 more threads\n",
      "2018-11-22 23:18:33,003 : INFO : worker thread finished; awaiting finish of 5 more threads\n",
      "2018-11-22 23:18:33,004 : INFO : worker thread finished; awaiting finish of 4 more threads\n",
      "2018-11-22 23:18:33,008 : INFO : worker thread finished; awaiting finish of 3 more threads\n",
      "2018-11-22 23:18:33,018 : INFO : worker thread finished; awaiting finish of 2 more threads\n",
      "2018-11-22 23:18:33,024 : INFO : worker thread finished; awaiting finish of 1 more threads\n",
      "2018-11-22 23:18:33,029 : INFO : worker thread finished; awaiting finish of 0 more threads\n",
      "2018-11-22 23:18:33,029 : INFO : EPOCH - 2 : training on 2847520 raw words (2044361 effective words) took 1.1s, 1938429 effective words/s\n",
      "2018-11-22 23:18:34,048 : INFO : EPOCH 3 - PROGRESS: at 96.37% examples, 1860958 words/s, in_qsize 19, out_qsize 0\n",
      "2018-11-22 23:18:34,111 : INFO : worker thread finished; awaiting finish of 9 more threads\n",
      "2018-11-22 23:18:34,116 : INFO : worker thread finished; awaiting finish of 8 more threads\n",
      "2018-11-22 23:18:34,117 : INFO : worker thread finished; awaiting finish of 7 more threads\n",
      "2018-11-22 23:18:34,127 : INFO : worker thread finished; awaiting finish of 6 more threads\n",
      "2018-11-22 23:18:34,128 : INFO : worker thread finished; awaiting finish of 5 more threads\n",
      "2018-11-22 23:18:34,129 : INFO : worker thread finished; awaiting finish of 4 more threads\n",
      "2018-11-22 23:18:34,135 : INFO : worker thread finished; awaiting finish of 3 more threads\n",
      "2018-11-22 23:18:34,136 : INFO : worker thread finished; awaiting finish of 2 more threads\n",
      "2018-11-22 23:18:34,138 : INFO : worker thread finished; awaiting finish of 1 more threads\n",
      "2018-11-22 23:18:34,140 : INFO : worker thread finished; awaiting finish of 0 more threads\n",
      "2018-11-22 23:18:34,140 : INFO : EPOCH - 3 : training on 2847520 raw words (2045365 effective words) took 1.1s, 1855248 effective words/s\n",
      "2018-11-22 23:18:35,143 : INFO : worker thread finished; awaiting finish of 9 more threads\n",
      "2018-11-22 23:18:35,144 : INFO : worker thread finished; awaiting finish of 8 more threads\n",
      "2018-11-22 23:18:35,146 : INFO : worker thread finished; awaiting finish of 7 more threads\n",
      "2018-11-22 23:18:35,147 : INFO : worker thread finished; awaiting finish of 6 more threads\n",
      "2018-11-22 23:18:35,151 : INFO : EPOCH 4 - PROGRESS: at 99.99% examples, 1993455 words/s, in_qsize 5, out_qsize 1\n",
      "2018-11-22 23:18:35,152 : INFO : worker thread finished; awaiting finish of 5 more threads\n",
      "2018-11-22 23:18:35,157 : INFO : worker thread finished; awaiting finish of 4 more threads\n",
      "2018-11-22 23:18:35,165 : INFO : worker thread finished; awaiting finish of 3 more threads\n",
      "2018-11-22 23:18:35,165 : INFO : worker thread finished; awaiting finish of 2 more threads\n",
      "2018-11-22 23:18:35,166 : INFO : worker thread finished; awaiting finish of 1 more threads\n",
      "2018-11-22 23:18:35,173 : INFO : worker thread finished; awaiting finish of 0 more threads\n",
      "2018-11-22 23:18:35,174 : INFO : EPOCH - 4 : training on 2847520 raw words (2044499 effective words) took 1.0s, 1993796 effective words/s\n",
      "2018-11-22 23:18:36,183 : INFO : worker thread finished; awaiting finish of 9 more threads\n",
      "2018-11-22 23:18:36,185 : INFO : worker thread finished; awaiting finish of 8 more threads\n",
      "2018-11-22 23:18:36,193 : INFO : EPOCH 5 - PROGRESS: at 99.98% examples, 1966553 words/s, in_qsize 7, out_qsize 1\n",
      "2018-11-22 23:18:36,195 : INFO : worker thread finished; awaiting finish of 7 more threads\n",
      "2018-11-22 23:18:36,195 : INFO : worker thread finished; awaiting finish of 6 more threads\n",
      "2018-11-22 23:18:36,196 : INFO : worker thread finished; awaiting finish of 5 more threads\n",
      "2018-11-22 23:18:36,203 : INFO : worker thread finished; awaiting finish of 4 more threads\n",
      "2018-11-22 23:18:36,208 : INFO : worker thread finished; awaiting finish of 3 more threads\n",
      "2018-11-22 23:18:36,213 : INFO : worker thread finished; awaiting finish of 2 more threads\n",
      "2018-11-22 23:18:36,215 : INFO : worker thread finished; awaiting finish of 1 more threads\n",
      "2018-11-22 23:18:36,220 : INFO : worker thread finished; awaiting finish of 0 more threads\n",
      "2018-11-22 23:18:36,220 : INFO : EPOCH - 5 : training on 2847520 raw words (2044416 effective words) took 1.0s, 1979654 effective words/s\n",
      "2018-11-22 23:18:37,226 : INFO : worker thread finished; awaiting finish of 9 more threads\n",
      "2018-11-22 23:18:37,231 : INFO : worker thread finished; awaiting finish of 8 more threads\n",
      "2018-11-22 23:18:37,231 : INFO : EPOCH 6 - PROGRESS: at 99.98% examples, 1978365 words/s, in_qsize 6, out_qsize 3\n",
      "2018-11-22 23:18:37,232 : INFO : worker thread finished; awaiting finish of 7 more threads\n",
      "2018-11-22 23:18:37,233 : INFO : worker thread finished; awaiting finish of 6 more threads\n",
      "2018-11-22 23:18:37,234 : INFO : worker thread finished; awaiting finish of 5 more threads\n",
      "2018-11-22 23:18:37,248 : INFO : worker thread finished; awaiting finish of 4 more threads\n",
      "2018-11-22 23:18:37,249 : INFO : worker thread finished; awaiting finish of 3 more threads\n",
      "2018-11-22 23:18:37,250 : INFO : worker thread finished; awaiting finish of 2 more threads\n",
      "2018-11-22 23:18:37,252 : INFO : worker thread finished; awaiting finish of 1 more threads\n",
      "2018-11-22 23:18:37,255 : INFO : worker thread finished; awaiting finish of 0 more threads\n",
      "2018-11-22 23:18:37,255 : INFO : EPOCH - 6 : training on 2847520 raw words (2045063 effective words) took 1.0s, 1997326 effective words/s\n",
      "2018-11-22 23:18:38,268 : INFO : EPOCH 7 - PROGRESS: at 93.85% examples, 1820387 words/s, in_qsize 19, out_qsize 0\n",
      "2018-11-22 23:18:38,359 : INFO : worker thread finished; awaiting finish of 9 more threads\n",
      "2018-11-22 23:18:38,365 : INFO : worker thread finished; awaiting finish of 8 more threads\n",
      "2018-11-22 23:18:38,366 : INFO : worker thread finished; awaiting finish of 7 more threads\n",
      "2018-11-22 23:18:38,370 : INFO : worker thread finished; awaiting finish of 6 more threads\n",
      "2018-11-22 23:18:38,374 : INFO : worker thread finished; awaiting finish of 5 more threads\n",
      "2018-11-22 23:18:38,381 : INFO : worker thread finished; awaiting finish of 4 more threads\n",
      "2018-11-22 23:18:38,382 : INFO : worker thread finished; awaiting finish of 3 more threads\n",
      "2018-11-22 23:18:38,388 : INFO : worker thread finished; awaiting finish of 2 more threads\n",
      "2018-11-22 23:18:38,393 : INFO : worker thread finished; awaiting finish of 1 more threads\n",
      "2018-11-22 23:18:38,395 : INFO : worker thread finished; awaiting finish of 0 more threads\n",
      "2018-11-22 23:18:38,396 : INFO : EPOCH - 7 : training on 2847520 raw words (2044675 effective words) took 1.1s, 1809144 effective words/s\n",
      "2018-11-22 23:18:39,399 : INFO : worker thread finished; awaiting finish of 9 more threads\n",
      "2018-11-22 23:18:39,405 : INFO : worker thread finished; awaiting finish of 8 more threads\n",
      "2018-11-22 23:18:39,408 : INFO : EPOCH 8 - PROGRESS: at 99.98% examples, 1976795 words/s, in_qsize 6, out_qsize 3\n",
      "2018-11-22 23:18:39,409 : INFO : worker thread finished; awaiting finish of 7 more threads\n",
      "2018-11-22 23:18:39,410 : INFO : worker thread finished; awaiting finish of 6 more threads\n",
      "2018-11-22 23:18:39,411 : INFO : worker thread finished; awaiting finish of 5 more threads\n",
      "2018-11-22 23:18:39,418 : INFO : worker thread finished; awaiting finish of 4 more threads\n",
      "2018-11-22 23:18:39,425 : INFO : worker thread finished; awaiting finish of 3 more threads\n",
      "2018-11-22 23:18:39,427 : INFO : worker thread finished; awaiting finish of 2 more threads\n",
      "2018-11-22 23:18:39,428 : INFO : worker thread finished; awaiting finish of 1 more threads\n",
      "2018-11-22 23:18:39,433 : INFO : worker thread finished; awaiting finish of 0 more threads\n",
      "2018-11-22 23:18:39,434 : INFO : EPOCH - 8 : training on 2847520 raw words (2044596 effective words) took 1.0s, 1991772 effective words/s\n",
      "2018-11-22 23:18:40,452 : INFO : EPOCH 9 - PROGRESS: at 97.58% examples, 1885452 words/s, in_qsize 18, out_qsize 1\n",
      "2018-11-22 23:18:40,485 : INFO : worker thread finished; awaiting finish of 9 more threads\n",
      "2018-11-22 23:18:40,494 : INFO : worker thread finished; awaiting finish of 8 more threads\n",
      "2018-11-22 23:18:40,499 : INFO : worker thread finished; awaiting finish of 7 more threads\n",
      "2018-11-22 23:18:40,501 : INFO : worker thread finished; awaiting finish of 6 more threads\n",
      "2018-11-22 23:18:40,502 : INFO : worker thread finished; awaiting finish of 5 more threads\n",
      "2018-11-22 23:18:40,506 : INFO : worker thread finished; awaiting finish of 4 more threads\n",
      "2018-11-22 23:18:40,514 : INFO : worker thread finished; awaiting finish of 3 more threads\n",
      "2018-11-22 23:18:40,516 : INFO : worker thread finished; awaiting finish of 2 more threads\n",
      "2018-11-22 23:18:40,523 : INFO : worker thread finished; awaiting finish of 1 more threads\n",
      "2018-11-22 23:18:40,525 : INFO : worker thread finished; awaiting finish of 0 more threads\n",
      "2018-11-22 23:18:40,525 : INFO : EPOCH - 9 : training on 2847520 raw words (2044203 effective words) took 1.1s, 1891757 effective words/s\n",
      "2018-11-22 23:18:41,521 : INFO : worker thread finished; awaiting finish of 9 more threads\n",
      "2018-11-22 23:18:41,527 : INFO : worker thread finished; awaiting finish of 8 more threads\n",
      "2018-11-22 23:18:41,528 : INFO : worker thread finished; awaiting finish of 7 more threads\n",
      "2018-11-22 23:18:41,529 : INFO : worker thread finished; awaiting finish of 6 more threads\n",
      "2018-11-22 23:18:41,531 : INFO : worker thread finished; awaiting finish of 5 more threads\n",
      "2018-11-22 23:18:41,539 : INFO : EPOCH 10 - PROGRESS: at 99.99% examples, 2002095 words/s, in_qsize 4, out_qsize 1\n",
      "2018-11-22 23:18:41,539 : INFO : worker thread finished; awaiting finish of 4 more threads\n",
      "2018-11-22 23:18:41,542 : INFO : worker thread finished; awaiting finish of 3 more threads\n",
      "2018-11-22 23:18:41,544 : INFO : worker thread finished; awaiting finish of 2 more threads\n",
      "2018-11-22 23:18:41,545 : INFO : worker thread finished; awaiting finish of 1 more threads\n",
      "2018-11-22 23:18:41,556 : INFO : worker thread finished; awaiting finish of 0 more threads\n",
      "2018-11-22 23:18:41,557 : INFO : EPOCH - 10 : training on 2847520 raw words (2044706 effective words) took 1.0s, 2003745 effective words/s\n",
      "2018-11-22 23:18:41,557 : INFO : training on a 28475200 raw words (20446415 effective words) took 10.6s, 1924318 effective words/s\n"
     ]
    },
    {
     "data": {
      "text/plain": [
       "(20446415, 28475200)"
      ]
     },
     "execution_count": 74,
     "metadata": {},
     "output_type": "execute_result"
    }
   ],
   "source": [
    "# build vocabulary and train model\n",
    "word2vec_model = gensim.models.Word2Vec(\n",
    "    documents,\n",
    "    size=150,\n",
    "    window=10,\n",
    "    min_count=2,\n",
    "    workers=10)\n",
    "word2vec_model.train(documents, total_examples=len(documents), epochs=10)"
   ]
  },
  {
   "cell_type": "code",
   "execution_count": 75,
   "metadata": {},
   "outputs": [
    {
     "name": "stderr",
     "output_type": "stream",
     "text": [
      "2018-11-22 23:19:01,913 : INFO : saving Word2VecKeyedVectors object under C:\\Users\\AD\\AppData\\Local\\Temp\\wordvectors.kv, separately None\n",
      "2018-11-22 23:19:01,915 : INFO : not storing attribute vectors_norm\n",
      "2018-11-22 23:19:02,112 : INFO : saved C:\\Users\\AD\\AppData\\Local\\Temp\\wordvectors.kv\n",
      "2018-11-22 23:19:02,112 : INFO : loading Word2VecKeyedVectors object from C:\\Users\\AD\\AppData\\Local\\Temp\\wordvectors.kv\n",
      "2018-11-22 23:19:02,232 : INFO : setting ignored attribute vectors_norm to None\n",
      "2018-11-22 23:19:02,233 : INFO : loaded C:\\Users\\AD\\AppData\\Local\\Temp\\wordvectors.kv\n"
     ]
    }
   ],
   "source": [
    "from gensim.models import KeyedVectors\n",
    "from gensim.test.utils import common_texts, get_tmpfile\n",
    "from gensim.models import Word2Vec\n",
    "path = get_tmpfile(\"wordvectors.kv\")\n",
    "word2vec_model.wv.save(path)\n",
    "wv = KeyedVectors.load(\"C:\\\\Users\\\\AD\\\\AppData\\\\Local\\\\Temp\\\\wordvectors.kv\", mmap='r')"
   ]
  },
  {
   "cell_type": "code",
   "execution_count": 76,
   "metadata": {},
   "outputs": [
    {
     "data": {
      "text/plain": [
       "array(['breast', 'bike', 'cyst', 'car', 'patient', 'cancer', 'hurt',\n",
       "       'occur', 'pain', 'doctor'], dtype='<U7')"
      ]
     },
     "execution_count": 76,
     "metadata": {},
     "output_type": "execute_result"
    }
   ],
   "source": [
    "import numpy as np\n",
    "list_words = ['breast','cancer','car','pain','patient','doctor','hurt','bike','cyst','occur']\n",
    "diff = np.array([wv['breast'] - wv[word] for word in list_words])\n",
    "dist = np.einsum('ij,ij->i',diff,diff)\n",
    "idx = np.argsort(dist)\n",
    "np.array(list_words)[idx]"
   ]
  },
  {
   "cell_type": "code",
   "execution_count": null,
   "metadata": {},
   "outputs": [],
   "source": []
  },
  {
   "cell_type": "code",
   "execution_count": null,
   "metadata": {},
   "outputs": [],
   "source": []
  }
 ],
 "metadata": {
  "kernelspec": {
   "display_name": "Python 3",
   "language": "python",
   "name": "python3"
  },
  "language_info": {
   "codemirror_mode": {
    "name": "ipython",
    "version": 3
   },
   "file_extension": ".py",
   "mimetype": "text/x-python",
   "name": "python",
   "nbconvert_exporter": "python",
   "pygments_lexer": "ipython3",
   "version": "3.6.6"
  }
 },
 "nbformat": 4,
 "nbformat_minor": 2
}
