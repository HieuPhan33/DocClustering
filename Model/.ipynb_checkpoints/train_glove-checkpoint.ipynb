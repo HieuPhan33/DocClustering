{
 "cells": [
  {
   "cell_type": "code",
   "execution_count": 69,
   "metadata": {},
   "outputs": [],
   "source": [
    "import itertools\n",
    "from gensim.models.word2vec import Text8Corpus\n",
    "from gensim.models.phrases import Phrases, Phraser\n",
    "from glove import Corpus, Glove\n",
    "import gensim\n",
    "from pathlib import Path\n",
    "from gensim.test.utils import get_tmpfile\n",
    "import pandas as pd\n",
    "import numpy as np\n",
    "import re"
   ]
  },
  {
   "cell_type": "code",
   "execution_count": 83,
   "metadata": {},
   "outputs": [],
   "source": [
    "def cosine_sim(w1,w2, model):\n",
    "    vectA = np.array(model.word_vectors[model.dictionary[w1]])\n",
    "    vectB = np.array(model.word_vectors[model.dictionary[w2]])\n",
    "    return (vectA.dot(vectB))/(np.linalg.norm(vectA) * np.linalg.norm(vectB))"
   ]
  },
  {
   "cell_type": "code",
   "execution_count": null,
   "metadata": {},
   "outputs": [],
   "source": [
    "# Bigram is the model to detect and group words into phrases\n",
    "def prepare_bigram(corpus_file_name):\n",
    "    # Read file and return sentences as a list of lists of string\n",
    "    # where each list of string represents a sentence\n",
    "    sentences = Text8Corpus(('../corpus/merged.txt'))\n",
    "    \n",
    "    # Detect and group phrases\n",
    "    phrases = Phrases(sentences, min_count=1, threshold=5,common_terms=['in','of'])\n",
    "    bigram = Phraser(phrases)\n",
    "    return bigram"
   ]
  },
  {
   "cell_type": "code",
   "execution_count": 70,
   "metadata": {},
   "outputs": [],
   "source": []
  },
  {
   "cell_type": "code",
   "execution_count": 71,
   "metadata": {},
   "outputs": [],
   "source": []
  },
  {
   "cell_type": "code",
   "execution_count": 74,
   "metadata": {},
   "outputs": [],
   "source": [
    "def read_corpus(fname, bigram=None):\n",
    "    with open(fname,encoding='utf-8') as f:\n",
    "        for i, line in enumerate(f):\n",
    "            line = re.sub(\"-\",\"_\",str(line))\n",
    "            list_of_words = gensim.utils.simple_preprocess(line)\n",
    "            if(bigram is not None):\n",
    "                # Further detect phrases\n",
    "                list_of_words = bigram[list_of_words]\n",
    "            yield list_of_words"
   ]
  },
  {
   "cell_type": "code",
   "execution_count": 75,
   "metadata": {},
   "outputs": [
    {
     "name": "stdout",
     "output_type": "stream",
     "text": [
      "Performing 100 training epochs with 4 threads\n",
      "Epoch 0\n",
      "Epoch 1\n",
      "Epoch 2\n",
      "Epoch 3\n",
      "Epoch 4\n",
      "Epoch 5\n",
      "Epoch 6\n",
      "Epoch 7\n",
      "Epoch 8\n",
      "Epoch 9\n",
      "Epoch 10\n",
      "Epoch 11\n",
      "Epoch 12\n",
      "Epoch 13\n",
      "Epoch 14\n",
      "Epoch 15\n",
      "Epoch 16\n",
      "Epoch 17\n",
      "Epoch 18\n",
      "Epoch 19\n",
      "Epoch 20\n",
      "Epoch 21\n",
      "Epoch 22\n",
      "Epoch 23\n",
      "Epoch 24\n",
      "Epoch 25\n",
      "Epoch 26\n",
      "Epoch 27\n",
      "Epoch 28\n",
      "Epoch 29\n",
      "Epoch 30\n",
      "Epoch 31\n",
      "Epoch 32\n",
      "Epoch 33\n",
      "Epoch 34\n",
      "Epoch 35\n",
      "Epoch 36\n",
      "Epoch 37\n",
      "Epoch 38\n",
      "Epoch 39\n",
      "Epoch 40\n",
      "Epoch 41\n",
      "Epoch 42\n",
      "Epoch 43\n",
      "Epoch 44\n",
      "Epoch 45\n",
      "Epoch 46\n",
      "Epoch 47\n",
      "Epoch 48\n",
      "Epoch 49\n",
      "Epoch 50\n",
      "Epoch 51\n",
      "Epoch 52\n",
      "Epoch 53\n",
      "Epoch 54\n",
      "Epoch 55\n",
      "Epoch 56\n",
      "Epoch 57\n",
      "Epoch 58\n",
      "Epoch 59\n",
      "Epoch 60\n",
      "Epoch 61\n",
      "Epoch 62\n",
      "Epoch 63\n",
      "Epoch 64\n",
      "Epoch 65\n",
      "Epoch 66\n",
      "Epoch 67\n",
      "Epoch 68\n",
      "Epoch 69\n",
      "Epoch 70\n",
      "Epoch 71\n",
      "Epoch 72\n",
      "Epoch 73\n",
      "Epoch 74\n",
      "Epoch 75\n",
      "Epoch 76\n",
      "Epoch 77\n",
      "Epoch 78\n",
      "Epoch 79\n",
      "Epoch 80\n",
      "Epoch 81\n",
      "Epoch 82\n",
      "Epoch 83\n",
      "Epoch 84\n",
      "Epoch 85\n",
      "Epoch 86\n",
      "Epoch 87\n",
      "Epoch 88\n",
      "Epoch 89\n",
      "Epoch 90\n",
      "Epoch 91\n",
      "Epoch 92\n",
      "Epoch 93\n",
      "Epoch 94\n",
      "Epoch 95\n",
      "Epoch 96\n",
      "Epoch 97\n",
      "Epoch 98\n",
      "Epoch 99\n"
     ]
    }
   ],
   "source": [
    "path_to_model = get_tmp_file('glove.model')\n",
    "if(not Path('glove.model').is_file()):\n",
    "    bigram = prepare_bigram('../corpus/merged.txt')\n",
    "    \n",
    "    # Use bigram to detect phrases and return well-structured list of sentences with phrases\n",
    "    sentences = list(read_corpus('../corpus/merged.txt',bigram))\n",
    "    corpus = Corpus()\n",
    "    corpus.fit(sentences, window=10)\n",
    "    glove = Glove(no_components=250, learning_rate=0.02)\n",
    "    glove.fit(corpus.matrix, epochs=400, no_threads=4, verbose=True)\n",
    "    glove.add_dictionary(corpus.dictionary)\n",
    "    glove.save(path_to_model)\n",
    "else:\n",
    "    glove = Glove.load(path_to_model)"
   ]
  },
  {
   "cell_type": "code",
   "execution_count": 80,
   "metadata": {},
   "outputs": [],
   "source": [
    "def intrinsic_evaluate(df,model):\n",
    "    '''\n",
    "    dataframe contains 3 columns: Term1, Term2, score which is the relatedness/similarity score\n",
    "    between two terms judged by clinical experts\n",
    "    the output is the correlation coefficient between the predicting score by the model and the expert judgement score\n",
    "    '''\n",
    "    has_vocab_condition = (df['Term1'].isin(model.dictionary)) & (df['Term2'].isin(model.dictionary))\n",
    "    df= df[has_vocab_condition]\n",
    "    df['pred_score']=df[['Term1','Term2']].apply(lambda row: cosine_sim(row['Term1'],row['Term2'],model),axis=1)\n",
    "    return df['pred_score'].corr(df['score'])\n",
    "    "
   ]
  },
  {
   "cell_type": "code",
   "execution_count": 84,
   "metadata": {},
   "outputs": [],
   "source": [
    "umn_sim = pd.read_csv('UMNSRS_sim.csv')"
   ]
  },
  {
   "cell_type": "code",
   "execution_count": 85,
   "metadata": {},
   "outputs": [
    {
     "name": "stderr",
     "output_type": "stream",
     "text": [
      "E:\\Program\\Anaconda\\envs\\tensorflow\\lib\\site-packages\\ipykernel_launcher.py:9: SettingWithCopyWarning: \n",
      "A value is trying to be set on a copy of a slice from a DataFrame.\n",
      "Try using .loc[row_indexer,col_indexer] = value instead\n",
      "\n",
      "See the caveats in the documentation: http://pandas.pydata.org/pandas-docs/stable/indexing.html#indexing-view-versus-copy\n",
      "  if __name__ == '__main__':\n"
     ]
    },
    {
     "data": {
      "text/plain": [
       "0.3262313947205722"
      ]
     },
     "execution_count": 85,
     "metadata": {},
     "output_type": "execute_result"
    }
   ],
   "source": [
    "intrinsic_evaluate(umn_sim,glove)"
   ]
  },
  {
   "cell_type": "code",
   "execution_count": null,
   "metadata": {},
   "outputs": [],
   "source": []
  },
  {
   "cell_type": "code",
   "execution_count": null,
   "metadata": {},
   "outputs": [],
   "source": []
  },
  {
   "cell_type": "code",
   "execution_count": 18,
   "metadata": {},
   "outputs": [],
   "source": []
  },
  {
   "cell_type": "code",
   "execution_count": null,
   "metadata": {},
   "outputs": [],
   "source": []
  }
 ],
 "metadata": {
  "kernelspec": {
   "display_name": "Python 3",
   "language": "python",
   "name": "python3"
  },
  "language_info": {
   "codemirror_mode": {
    "name": "ipython",
    "version": 3
   },
   "file_extension": ".py",
   "mimetype": "text/x-python",
   "name": "python",
   "nbconvert_exporter": "python",
   "pygments_lexer": "ipython3",
   "version": "3.6.6"
  }
 },
 "nbformat": 4,
 "nbformat_minor": 2
}
